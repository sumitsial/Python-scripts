{
 "cells": [
  {
   "cell_type": "code",
   "execution_count": 3,
   "metadata": {},
   "outputs": [],
   "source": [
    "import numpy as np\n",
    "import seaborn as sns\n",
    "import statistics"
   ]
  },
  {
   "cell_type": "code",
   "execution_count": 4,
   "metadata": {},
   "outputs": [],
   "source": [
    "import pandas as pd\n",
    "import matplotlib.pyplot as plt "
   ]
  },
  {
   "cell_type": "markdown",
   "metadata": {},
   "source": [
    "### To load and check the dataset in the .csv file"
   ]
  },
  {
   "cell_type": "code",
   "execution_count": 5,
   "metadata": {},
   "outputs": [
    {
     "name": "stdout",
     "output_type": "stream",
     "text": [
      "         avg_pn  avg_pn_high  avg_pn_low   turtles    avg-pn\n",
      "0      0.029510     0.265537   -0.264764 -0.049195  0.011607\n",
      "1      0.025551     0.266381   -0.263200 -0.028822  0.013339\n",
      "2      0.028149     0.262768   -0.263749 -0.026726  0.012138\n",
      "3      0.028369     0.263014   -0.263173 -0.013157  0.016345\n",
      "4      0.025204     0.265238   -0.266676 -0.008926  0.017037\n",
      "...         ...          ...         ...       ...       ...\n",
      "43195  0.267498     2.125369   -2.110387       NaN       NaN\n",
      "43196  0.243956     2.125392   -2.107777       NaN       NaN\n",
      "43197  0.219570     2.114114   -2.122288       NaN       NaN\n",
      "43198  0.219414     2.108136   -2.114683       NaN       NaN\n",
      "43199  0.267335     2.116844   -2.135326       NaN       NaN\n",
      "\n",
      "[43200 rows x 5 columns]\n"
     ]
    }
   ],
   "source": [
    "df = pd.read_csv('Pn values of all turtles.csv')\n",
    "print (df)"
   ]
  },
  {
   "cell_type": "markdown",
   "metadata": {},
   "source": [
    "### Graph depicting the the avg_pn values for all coefficient values for 200 runs\n"
   ]
  },
  {
   "cell_type": "code",
   "execution_count": 16,
   "metadata": {},
   "outputs": [
    {
     "data": {
      "image/png": "[encoded data removed]",
      "text/plain": [
       "<Figure size 432x288 with 1 Axes>"
      ]
     },
     "metadata": {},
     "output_type": "display_data"
    }
   ],
   "source": [
    "\n",
    "sns.set()\n",
    "sns.distplot(df['avg-pn'],bins=20) # command to print a normal distribution of the column 'avg-pn' with a binsize of 20\n",
    "m = df['avg-pn'].mean() # assigning the mean value of the column 'avg-pn'\n"
   ]
  },
  {
   "cell_type": "code",
   "execution_count": 17,
   "metadata": {},
   "outputs": [
    {
     "name": "stdout",
     "output_type": "stream",
     "text": [
      "The mean value is 0.0823551112701649 \n"
     ]
    }
   ],
   "source": [
    "print(f'The mean value is {m} ') # to print the mean"
   ]
  },
  {
   "cell_type": "code",
   "execution_count": 6,
   "metadata": {},
   "outputs": [
    {
     "data": {
      "text/plain": [
       "0.068866437"
      ]
     },
     "execution_count": 6,
     "metadata": {},
     "output_type": "execute_result"
    }
   ],
   "source": [
    "np.quantile(df['avg_pn'],.25) # to print 1st inter-quantile value"
   ]
  },
  {
   "cell_type": "code",
   "execution_count": 9,
   "metadata": {},
   "outputs": [],
   "source": [
    "sep = pd.read_csv('Waste separation vs coeff.csv')\n"
   ]
  },
  {
   "cell_type": "markdown",
   "metadata": {},
   "source": [
    "### To print coefficient multipliers"
   ]
  },
  {
   "cell_type": "code",
   "execution_count": 10,
   "metadata": {},
   "outputs": [
    {
     "name": "stdout",
     "output_type": "stream",
     "text": [
      "0       0.125\n",
      "1       0.125\n",
      "2       0.125\n",
      "3       0.125\n",
      "4       0.125\n",
      "        ...  \n",
      "6475    1.000\n",
      "6476    1.000\n",
      "6477    1.000\n",
      "6478    1.000\n",
      "6479    1.000\n",
      "Name: Multiplier, Length: 6480, dtype: float64\n"
     ]
    }
   ],
   "source": [
    "mul = sep[\"Multiplier\"] \n",
    "print (mul)"
   ]
  },
  {
   "cell_type": "code",
   "execution_count": 12,
   "metadata": {},
   "outputs": [],
   "source": [
    "# function to find the unique values in the column 'Multiplier'\n",
    "def unique(mul): \n",
    "  \n",
    "    # intilize a null list \n",
    "    unique_list = [] \n",
    "      \n",
    "    # traverse for all elements \n",
    "    for x in mul: \n",
    "        # check if exists in unique_list or not \n",
    "        if x not in unique_list: \n",
    "            unique_list.append(x) \n",
    "    # print list \n",
    "    for x in unique_list: \n",
    "        print (x),"
   ]
  },
  {
   "cell_type": "markdown",
   "metadata": {},
   "source": [
    "### Print the unique values"
   ]
  },
  {
   "cell_type": "code",
   "execution_count": 13,
   "metadata": {},
   "outputs": [
    {
     "name": "stdout",
     "output_type": "stream",
     "text": [
      "0.125\n",
      "0.15\n",
      "0.175\n",
      "0.2\n",
      "0.225\n",
      "0.25\n",
      "0.18\n",
      "0.21\n",
      "0.24\n",
      "0.27\n",
      "0.3\n",
      "0.245\n",
      "0.28\n",
      "0.315\n",
      "0.35\n",
      "0.32\n",
      "0.36\n",
      "0.4\n",
      "0.405\n",
      "0.45\n",
      "0.5\n",
      "0.21600000000000003\n",
      "0.252\n",
      "0.28800000000000003\n",
      "0.324\n",
      "0.294\n",
      "0.336\n",
      "0.37799999999999995\n",
      "0.42\n",
      "0.384\n",
      "0.43200000000000005\n",
      "0.48\n",
      "0.486\n",
      "0.54\n",
      "0.6\n",
      "0.34299999999999997\n",
      "0.392\n",
      "0.441\n",
      "0.49\n",
      "0.44799999999999995\n",
      "0.504\n",
      "0.56\n",
      "0.5670000000000001\n",
      "0.63\n",
      "0.7\n",
      "0.512\n",
      "0.5760000000000001\n",
      "0.64\n",
      "0.648\n",
      "0.72\n",
      "0.8\n",
      "0.7290000000000001\n",
      "0.81\n",
      "0.9\n",
      "1.0\n"
     ]
    }
   ],
   "source": [
    "unique(mul)"
   ]
  }
 ],
 "metadata": {
  "kernelspec": {
   "display_name": "Python 3",
   "language": "python",
   "name": "python3"
  },
  "language_info": {
   "codemirror_mode": {
    "name": "ipython",
    "version": 3
   },
   "file_extension": ".py",
   "mimetype": "text/x-python",
   "name": "python",
   "nbconvert_exporter": "python",
   "pygments_lexer": "ipython3",
   "version": "3.7.6"
  }
 },
 "nbformat": 4,
 "nbformat_minor": 2
}
